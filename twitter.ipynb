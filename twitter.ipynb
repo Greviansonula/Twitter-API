{
 "cells": [
  {
   "cell_type": "code",
   "execution_count": 18,
   "metadata": {},
   "outputs": [],
   "source": [
    "import tweepy\n",
    "from dotenv import load_dotenv\n",
    "import os\n",
    "import pandas as pd"
   ]
  },
  {
   "cell_type": "code",
   "execution_count": 2,
   "metadata": {},
   "outputs": [
    {
     "data": {
      "text/plain": [
       "True"
      ]
     },
     "execution_count": 2,
     "metadata": {},
     "output_type": "execute_result"
    }
   ],
   "source": [
    "load_dotenv()"
   ]
  },
  {
   "cell_type": "code",
   "execution_count": 4,
   "metadata": {},
   "outputs": [],
   "source": [
    "# Retrieve the environment variables\n",
    "api_key = os.getenv('API_KEY')\n",
    "api_key_secret = os.getenv('API_KEY_SECRET')\n",
    "access_token = os.getenv('ACCESS_TOKEN')\n",
    "access_token_secret = os.getenv('ACCESS_TOKEN_SECRET')"
   ]
  },
  {
   "cell_type": "code",
   "execution_count": 5,
   "metadata": {},
   "outputs": [],
   "source": [
    "#authentication\n",
    "auth = tweepy.OAuthHandler(api_key, api_key_secret)\n",
    "auth.set_access_token(access_token, access_token_secret)\n",
    "\n",
    "api = tweepy.API(auth)"
   ]
  },
  {
   "cell_type": "code",
   "execution_count": 6,
   "metadata": {},
   "outputs": [
    {
     "name": "stdout",
     "output_type": "stream",
     "text": [
      "RT @AzimioTv: The entire Azimio family is grateful to Residents of Pipeline who selflessly poured water down from their high-rise flats to…\n"
     ]
    }
   ],
   "source": [
    "public_tweets = api.home_timeline()\n",
    "print(public_tweets[0].text)"
   ]
  },
  {
   "cell_type": "code",
   "execution_count": 11,
   "metadata": {},
   "outputs": [
    {
     "name": "stdout",
     "output_type": "stream",
     "text": [
      "RT @AzimioTv: The entire Azimio family is grateful to Residents of Pipeline who selflessly poured water down from their high-rise flats to…\n",
      "=========================\n",
      "RT @NoDegreeDotCom: Just turned 32!\n",
      "\n",
      "I'm thankful for my girlfriend, amazing friends, and the amazing community on here that has my back.…\n",
      "=========================\n",
      "Topic: Demystifying the Data Science Workflow and Career paths in Data Science https://t.co/QKAtWy9oEm\n",
      "=========================\n",
      "RT @samuel_wong_: Building Airbnb Categories with ML &amp; Human in the Loop https://t.co/3ZZlLDCkX3\n",
      "=========================\n",
      "RT @EclipseFND: Eclipse and @Injective_  launch Cascade: the first interchain Solana SVM! 🎉\n",
      "\n",
      "Solana dApps can now be built and utilized on…\n",
      "=========================\n",
      "🔥 https://t.co/JDGy9PJ7pl\n",
      "=========================\n",
      "Access unmatched networking opportunities, live training sessions and 1-1 mentorship. Apply today:… https://t.co/ta3HA4ekgD\n",
      "=========================\n",
      "\"A meta-review is like a fine wine: it gets better with age. But only if you submit it on time!\" - Bard\n",
      "\n",
      "#ICML2023… https://t.co/Xp79HVX8Nx\n",
      "=========================\n",
      "#BeyondTheHype Data Science Hands-On MeetUp by @DSEAfrica\n",
      "\n",
      "Speaker: @categitau_, data science manager @Visa . \n",
      "\n",
      "Top… https://t.co/EFTe4b6FsO\n",
      "=========================\n",
      "RT @ianmbunde: Nobody:\n",
      "\n",
      "Raila's driver: https://t.co/pKPtgOoOXI\n",
      "=========================\n"
     ]
    }
   ],
   "source": [
    "for i in range(0, 10):\n",
    "    print(public_tweets[i].text)\n",
    "    print(\"=========================\")"
   ]
  },
  {
   "cell_type": "code",
   "execution_count": 12,
   "metadata": {},
   "outputs": [
    {
     "name": "stdout",
     "output_type": "stream",
     "text": [
      "RT @AzimioTv: The entire Azimio family is grateful to Residents of Pipeline who selflessly poured water down from their high-rise flats to…\n",
      "RT @NoDegreeDotCom: Just turned 32!\n",
      "\n",
      "I'm thankful for my girlfriend, amazing friends, and the amazing community on here that has my back.…\n",
      "Topic: Demystifying the Data Science Workflow and Career paths in Data Science https://t.co/QKAtWy9oEm\n",
      "RT @samuel_wong_: Building Airbnb Categories with ML &amp; Human in the Loop https://t.co/3ZZlLDCkX3\n",
      "RT @EclipseFND: Eclipse and @Injective_  launch Cascade: the first interchain Solana SVM! 🎉\n",
      "\n",
      "Solana dApps can now be built and utilized on…\n",
      "🔥 https://t.co/JDGy9PJ7pl\n",
      "Access unmatched networking opportunities, live training sessions and 1-1 mentorship. Apply today:… https://t.co/ta3HA4ekgD\n",
      "\"A meta-review is like a fine wine: it gets better with age. But only if you submit it on time!\" - Bard\n",
      "\n",
      "#ICML2023… https://t.co/Xp79HVX8Nx\n",
      "#BeyondTheHype Data Science Hands-On MeetUp by @DSEAfrica\n",
      "\n",
      "Speaker: @categitau_, data science manager @Visa . \n",
      "\n",
      "Top… https://t.co/EFTe4b6FsO\n",
      "RT @ianmbunde: Nobody:\n",
      "\n",
      "Raila's driver: https://t.co/pKPtgOoOXI\n",
      "Designers on their way to team-wide meetings to say “ Nothing to add from my end” or “…no major update..” https://t.co/QLp2iuByva\n",
      "The public chasing the cops is a funny sight\n",
      "RT @IAmSoosy: Fear of programming is real and it is quite prevalent among some Arewa women. Here are some tech skills you can learn that do…\n",
      "RT @JacksiroKe: That moment when the CTO or TechLead comes from a trip and shows up in the stand up https://t.co/OLnt67epUi\n",
      "#BeyondTheHype Data Science Hands-On MeetUp by @DSEAfrica\n",
      "\n",
      "Speaker:  @kennedykwangari, data scientist at @unepwcmc… https://t.co/nIHCHf9ZFM\n",
      "RT @omwambaKE: Meanwhile, Embarambamba is Back! https://t.co/M7Fp0DtPmx\n",
      "a Pause in #AI research, no, a Change of Course, Yes! \n",
      "\n",
      "https://t.co/8AH5gYcBVa \n",
      "by @pierrepinna via @ipfconline1… https://t.co/8GXFIKat1d\n",
      "#AI-assisted #DataScience and #MLOps At Scale — @AbacusAI enables real-time #MachineLearning and #DeepLearning at s… https://t.co/FMUTCoK3wq\n",
      "😂😂😂😂 https://t.co/4hYStSOXZ7\n"
     ]
    }
   ],
   "source": [
    "for tweet in public_tweets:\n",
    "    print(tweet.text)"
   ]
  },
  {
   "cell_type": "code",
   "execution_count": 13,
   "metadata": {},
   "outputs": [
    {
     "data": {
      "text/plain": [
       "19"
      ]
     },
     "execution_count": 13,
     "metadata": {},
     "output_type": "execute_result"
    }
   ],
   "source": [
    "len(public_tweets)"
   ]
  },
  {
   "cell_type": "code",
   "execution_count": 15,
   "metadata": {},
   "outputs": [],
   "source": [
    "columns = [\"Time\", \"User\", \"Tweet\"]\n",
    "\n",
    "data = []\n",
    "\n",
    "for tweet in public_tweets:\n",
    "    data.append([tweet.created_at, tweet.user.screen_name, tweet.text])"
   ]
  },
  {
   "cell_type": "code",
   "execution_count": 16,
   "metadata": {},
   "outputs": [
    {
     "name": "stdout",
     "output_type": "stream",
     "text": [
      "[[datetime.datetime(2023, 3, 30, 13, 52, 9, tzinfo=datetime.timezone.utc), 'RailaOdinga', 'RT @AzimioTv: The entire Azimio family is grateful to Residents of Pipeline who selflessly poured water down from their high-rise flats to…'], [datetime.datetime(2023, 3, 30, 13, 46, 3, tzinfo=datetime.timezone.utc), 'Matthew_WebDev', \"RT @NoDegreeDotCom: Just turned 32!\\n\\nI'm thankful for my girlfriend, amazing friends, and the amazing community on here that has my back.…\"], [datetime.datetime(2023, 3, 30, 13, 38, 18, tzinfo=datetime.timezone.utc), 'HarunMbaabu', 'Topic: Demystifying the Data Science Workflow and Career paths in Data Science https://t.co/QKAtWy9oEm'], [datetime.datetime(2023, 3, 30, 13, 36, 40, tzinfo=datetime.timezone.utc), 'DD_FaFa_', 'RT @samuel_wong_: Building Airbnb Categories with ML &amp; Human in the Loop https://t.co/3ZZlLDCkX3'], [datetime.datetime(2023, 3, 30, 13, 34, 20, tzinfo=datetime.timezone.utc), 'PrasoonPratham', 'RT @EclipseFND: Eclipse and @Injective_  launch Cascade: the first interchain Solana SVM! 🎉\\n\\nSolana dApps can now be built and utilized on…'], [datetime.datetime(2023, 3, 30, 13, 33, 54, tzinfo=datetime.timezone.utc), 'StanleyMasinde_', '🔥 https://t.co/JDGy9PJ7pl'], [datetime.datetime(2023, 3, 30, 13, 33, 50, tzinfo=datetime.timezone.utc), 'googleafrica', 'Access unmatched networking opportunities, live training sessions and 1-1 mentorship. Apply today:… https://t.co/ta3HA4ekgD'], [datetime.datetime(2023, 3, 30, 13, 32, 24, tzinfo=datetime.timezone.utc), 'kchonyc', '\"A meta-review is like a fine wine: it gets better with age. But only if you submit it on time!\" - Bard\\n\\n#ICML2023… https://t.co/Xp79HVX8Nx'], [datetime.datetime(2023, 3, 30, 13, 31, 51, tzinfo=datetime.timezone.utc), 'HarunMbaabu', '#BeyondTheHype Data Science Hands-On MeetUp by @DSEAfrica\\n\\nSpeaker: @categitau_, data science manager @Visa . \\n\\nTop… https://t.co/EFTe4b6FsO'], [datetime.datetime(2023, 3, 30, 13, 30, 26, tzinfo=datetime.timezone.utc), 'droid254', \"RT @ianmbunde: Nobody:\\n\\nRaila's driver: https://t.co/pKPtgOoOXI\"], [datetime.datetime(2023, 3, 30, 13, 28, 19, tzinfo=datetime.timezone.utc), 'VuyanziG', 'Designers on their way to team-wide meetings to say “ Nothing to add from my end” or “…no major update..” https://t.co/QLp2iuByva'], [datetime.datetime(2023, 3, 30, 13, 27, 45, tzinfo=datetime.timezone.utc), 'droid254', 'The public chasing the cops is a funny sight'], [datetime.datetime(2023, 3, 30, 13, 23, 56, tzinfo=datetime.timezone.utc), 'Bangiss_', 'RT @IAmSoosy: Fear of programming is real and it is quite prevalent among some Arewa women. Here are some tech skills you can learn that do…'], [datetime.datetime(2023, 3, 30, 13, 23, 33, tzinfo=datetime.timezone.utc), 'johnsonyaanga', 'RT @JacksiroKe: That moment when the CTO or TechLead comes from a trip and shows up in the stand up https://t.co/OLnt67epUi'], [datetime.datetime(2023, 3, 30, 13, 23, 6, tzinfo=datetime.timezone.utc), 'HarunMbaabu', '#BeyondTheHype Data Science Hands-On MeetUp by @DSEAfrica\\n\\nSpeaker:  @kennedykwangari, data scientist at @unepwcmc… https://t.co/nIHCHf9ZFM'], [datetime.datetime(2023, 3, 30, 13, 22, 31, tzinfo=datetime.timezone.utc), '_Chepsi', 'RT @omwambaKE: Meanwhile, Embarambamba is Back! https://t.co/M7Fp0DtPmx'], [datetime.datetime(2023, 3, 30, 13, 14, 29, tzinfo=datetime.timezone.utc), 'pierrepinna', 'a Pause in #AI research, no, a Change of Course, Yes! \\n\\nhttps://t.co/8AH5gYcBVa \\nby @pierrepinna via @ipfconline1… https://t.co/8GXFIKat1d'], [datetime.datetime(2023, 3, 30, 13, 13, tzinfo=datetime.timezone.utc), 'KirkDBorne', '#AI-assisted #DataScience and #MLOps At Scale — @AbacusAI enables real-time #MachineLearning and #DeepLearning at s… https://t.co/FMUTCoK3wq'], [datetime.datetime(2023, 3, 30, 13, 10, 32, tzinfo=datetime.timezone.utc), 'kirinyetbrian', '😂😂😂😂 https://t.co/4hYStSOXZ7']]\n"
     ]
    }
   ],
   "source": [
    "print(data)"
   ]
  },
  {
   "cell_type": "code",
   "execution_count": 19,
   "metadata": {},
   "outputs": [],
   "source": [
    "df = pd.DataFrame(data, columns=columns)"
   ]
  },
  {
   "cell_type": "code",
   "execution_count": 21,
   "metadata": {},
   "outputs": [
    {
     "data": {
      "text/html": [
       "<div>\n",
       "<style scoped>\n",
       "    .dataframe tbody tr th:only-of-type {\n",
       "        vertical-align: middle;\n",
       "    }\n",
       "\n",
       "    .dataframe tbody tr th {\n",
       "        vertical-align: top;\n",
       "    }\n",
       "\n",
       "    .dataframe thead th {\n",
       "        text-align: right;\n",
       "    }\n",
       "</style>\n",
       "<table border=\"1\" class=\"dataframe\">\n",
       "  <thead>\n",
       "    <tr style=\"text-align: right;\">\n",
       "      <th></th>\n",
       "      <th>Time</th>\n",
       "      <th>User</th>\n",
       "      <th>Tweet</th>\n",
       "    </tr>\n",
       "  </thead>\n",
       "  <tbody>\n",
       "    <tr>\n",
       "      <th>0</th>\n",
       "      <td>2023-03-30 13:52:09+00:00</td>\n",
       "      <td>RailaOdinga</td>\n",
       "      <td>RT @AzimioTv: The entire Azimio family is grat...</td>\n",
       "    </tr>\n",
       "    <tr>\n",
       "      <th>1</th>\n",
       "      <td>2023-03-30 13:46:03+00:00</td>\n",
       "      <td>Matthew_WebDev</td>\n",
       "      <td>RT @NoDegreeDotCom: Just turned 32!\\n\\nI'm tha...</td>\n",
       "    </tr>\n",
       "    <tr>\n",
       "      <th>2</th>\n",
       "      <td>2023-03-30 13:38:18+00:00</td>\n",
       "      <td>HarunMbaabu</td>\n",
       "      <td>Topic: Demystifying the Data Science Workflow ...</td>\n",
       "    </tr>\n",
       "    <tr>\n",
       "      <th>3</th>\n",
       "      <td>2023-03-30 13:36:40+00:00</td>\n",
       "      <td>DD_FaFa_</td>\n",
       "      <td>RT @samuel_wong_: Building Airbnb Categories w...</td>\n",
       "    </tr>\n",
       "    <tr>\n",
       "      <th>4</th>\n",
       "      <td>2023-03-30 13:34:20+00:00</td>\n",
       "      <td>PrasoonPratham</td>\n",
       "      <td>RT @EclipseFND: Eclipse and @Injective_  launc...</td>\n",
       "    </tr>\n",
       "    <tr>\n",
       "      <th>5</th>\n",
       "      <td>2023-03-30 13:33:54+00:00</td>\n",
       "      <td>StanleyMasinde_</td>\n",
       "      <td>🔥 https://t.co/JDGy9PJ7pl</td>\n",
       "    </tr>\n",
       "    <tr>\n",
       "      <th>6</th>\n",
       "      <td>2023-03-30 13:33:50+00:00</td>\n",
       "      <td>googleafrica</td>\n",
       "      <td>Access unmatched networking opportunities, liv...</td>\n",
       "    </tr>\n",
       "    <tr>\n",
       "      <th>7</th>\n",
       "      <td>2023-03-30 13:32:24+00:00</td>\n",
       "      <td>kchonyc</td>\n",
       "      <td>\"A meta-review is like a fine wine: it gets be...</td>\n",
       "    </tr>\n",
       "    <tr>\n",
       "      <th>8</th>\n",
       "      <td>2023-03-30 13:31:51+00:00</td>\n",
       "      <td>HarunMbaabu</td>\n",
       "      <td>#BeyondTheHype Data Science Hands-On MeetUp by...</td>\n",
       "    </tr>\n",
       "    <tr>\n",
       "      <th>9</th>\n",
       "      <td>2023-03-30 13:30:26+00:00</td>\n",
       "      <td>droid254</td>\n",
       "      <td>RT @ianmbunde: Nobody:\\n\\nRaila's driver: http...</td>\n",
       "    </tr>\n",
       "  </tbody>\n",
       "</table>\n",
       "</div>"
      ],
      "text/plain": [
       "                       Time             User  \\\n",
       "0 2023-03-30 13:52:09+00:00      RailaOdinga   \n",
       "1 2023-03-30 13:46:03+00:00   Matthew_WebDev   \n",
       "2 2023-03-30 13:38:18+00:00      HarunMbaabu   \n",
       "3 2023-03-30 13:36:40+00:00         DD_FaFa_   \n",
       "4 2023-03-30 13:34:20+00:00   PrasoonPratham   \n",
       "5 2023-03-30 13:33:54+00:00  StanleyMasinde_   \n",
       "6 2023-03-30 13:33:50+00:00     googleafrica   \n",
       "7 2023-03-30 13:32:24+00:00          kchonyc   \n",
       "8 2023-03-30 13:31:51+00:00      HarunMbaabu   \n",
       "9 2023-03-30 13:30:26+00:00         droid254   \n",
       "\n",
       "                                               Tweet  \n",
       "0  RT @AzimioTv: The entire Azimio family is grat...  \n",
       "1  RT @NoDegreeDotCom: Just turned 32!\\n\\nI'm tha...  \n",
       "2  Topic: Demystifying the Data Science Workflow ...  \n",
       "3  RT @samuel_wong_: Building Airbnb Categories w...  \n",
       "4  RT @EclipseFND: Eclipse and @Injective_  launc...  \n",
       "5                          🔥 https://t.co/JDGy9PJ7pl  \n",
       "6  Access unmatched networking opportunities, liv...  \n",
       "7  \"A meta-review is like a fine wine: it gets be...  \n",
       "8  #BeyondTheHype Data Science Hands-On MeetUp by...  \n",
       "9  RT @ianmbunde: Nobody:\\n\\nRaila's driver: http...  "
      ]
     },
     "execution_count": 21,
     "metadata": {},
     "output_type": "execute_result"
    }
   ],
   "source": [
    "df.head(10)"
   ]
  },
  {
   "cell_type": "code",
   "execution_count": 22,
   "metadata": {},
   "outputs": [],
   "source": [
    "# save to csv\n",
    "df.to_csv(\"tweets.csv\")"
   ]
  },
  {
   "cell_type": "code",
   "execution_count": null,
   "metadata": {},
   "outputs": [],
   "source": []
  }
 ],
 "metadata": {
  "kernelspec": {
   "display_name": "base",
   "language": "python",
   "name": "python3"
  },
  "language_info": {
   "codemirror_mode": {
    "name": "ipython",
    "version": 3
   },
   "file_extension": ".py",
   "mimetype": "text/x-python",
   "name": "python",
   "nbconvert_exporter": "python",
   "pygments_lexer": "ipython3",
   "version": "3.7.16"
  },
  "orig_nbformat": 4
 },
 "nbformat": 4,
 "nbformat_minor": 2
}
